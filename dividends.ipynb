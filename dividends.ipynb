{
 "cells": [
  {
   "cell_type": "code",
   "execution_count": 195,
   "metadata": {},
   "outputs": [],
   "source": [
    "import os\n",
    "import pandas as pd \n",
    "import datetime as dt\n",
    "pd.core.common.is_list_like = pd.api.types.is_list_like\n",
    "from pandas_datareader import data as pdr\n",
    "import yfinance as yf\n",
    "from pdb import set_trace as keyboard\n",
    "import numpy as np\n",
    "import matplotlib.pyplot as plt"
   ]
  },
  {
   "cell_type": "code",
   "execution_count": 196,
   "metadata": {},
   "outputs": [],
   "source": [
    "stockTicker = 'TIET4'\n",
    "stockType = 'Preferencial' \n",
    "nYears = 1.\n",
    "endDate = dt.datetime(2019, 8, 1)\n",
    "startDate = endDate - dt.timedelta(days=int(365*nYears))"
   ]
  },
  {
   "cell_type": "code",
   "execution_count": 197,
   "metadata": {},
   "outputs": [],
   "source": [
    "yf.pdr_override()"
   ]
  },
  {
   "cell_type": "code",
   "execution_count": 198,
   "metadata": {},
   "outputs": [
    {
     "name": "stdout",
     "output_type": "stream",
     "text": [
      "[*********************100%***********************]  1 of 1 downloaded\n"
     ]
    },
    {
     "data": {
      "text/plain": [
       "Date\n",
       "2019-08-01    2.455\n",
       "2019-07-31    2.445\n",
       "2019-07-30    2.435\n",
       "2019-07-29    2.435\n",
       "2019-07-26    2.415\n",
       "Name: Close, dtype: float64"
      ]
     },
     "execution_count": 198,
     "metadata": {},
     "output_type": "execute_result"
    }
   ],
   "source": [
    "endDate_str = endDate.strftime(\"%Y-%m-%d\")\n",
    "startDate_str = startDate.strftime(\"%Y-%m-%d\")\n",
    "stockDF = pdr.get_data_yahoo(stockTicker + '.SA', start=startDate_str, end=endDate_str)[::-1]['Close']\n",
    "stockDF_priceEv = stockDF/stockDF.iloc[-1]\n",
    "stockDF.head(5)"
   ]
  },
  {
   "cell_type": "code",
   "execution_count": 199,
   "metadata": {},
   "outputs": [
    {
     "name": "stdout",
     "output_type": "stream",
     "text": [
      "Requisição bem sucedida!\n"
     ]
    }
   ],
   "source": [
    "import requests\n",
    "from bs4 import BeautifulSoup\n",
    "req = requests.get('https://br.advfn.com/bolsa-de-valores/bovespa/%s/dividendos' % stockTicker)\n",
    "if req.status_code == 200:\n",
    "    print('Requisição bem sucedida!')\n",
    "    content = req.content"
   ]
  },
  {
   "cell_type": "code",
   "execution_count": 200,
   "metadata": {},
   "outputs": [],
   "source": [
    "soup = BeautifulSoup(content, 'html.parser')"
   ]
  },
  {
   "cell_type": "code",
   "execution_count": 201,
   "metadata": {},
   "outputs": [],
   "source": [
    "table = []\n",
    "monthDict={'Jan':1, 'Fev':2, 'Mar':3, 'Abr':4, 'Mai':5, 'Jun':6, 'Jul':7, 'Ago':8, 'Set':9, 'Out':10, 'Nov':11, 'Dez':12}\n",
    "\n",
    "contents_str = str(soup.find_all(class_=\"Element TableElement DividendsTableElement\")[0]).split('</tr>')\n",
    "for i in contents_str[1:]:\n",
    "    \n",
    "    try:\n",
    "        elements = i.split('\"String Column2\">')\n",
    "        temp = elements[1].split('</td><td class=\"String Column3\">Proventos em dinheiro</td><td class=\"String Column4\">')\n",
    "        \n",
    "        day, month, year = temp[0].split(' ')\n",
    "        paymentDate = dt.datetime(int(year), monthDict[month], int(day))\n",
    "\n",
    "\n",
    "        temp2 = temp[1].split('</td><td class=\"Numeric Column5 ColumnLast\"')\n",
    "\n",
    "        stockType = temp2[0]\n",
    "\n",
    "        dividend = float(temp2[1].split('>')[1].split('</td')[0].replace(',', '.'))\n",
    "        #keyboard()\n",
    "\n",
    "        table.append([paymentDate, stockType, dividend])\n",
    "    except:\n",
    "        continue ##########Check\n",
    "    \n",
    "dividends_df = pd.DataFrame(np.array(table), columns=['PaymentDate', 'StockType', 'Dividend'])\n",
    "dividends_df_stocktype = dividends_df[dividends_df['StockType'] == stockType]\n",
    "\n",
    "#dividends_df[dividends_df['StockType'] == 'Ordinária']"
   ]
  },
  {
   "cell_type": "code",
   "execution_count": 202,
   "metadata": {},
   "outputs": [
    {
     "data": {
      "text/html": [
       "<div>\n",
       "<style scoped>\n",
       "    .dataframe tbody tr th:only-of-type {\n",
       "        vertical-align: middle;\n",
       "    }\n",
       "\n",
       "    .dataframe tbody tr th {\n",
       "        vertical-align: top;\n",
       "    }\n",
       "\n",
       "    .dataframe thead th {\n",
       "        text-align: right;\n",
       "    }\n",
       "</style>\n",
       "<table border=\"1\" class=\"dataframe\">\n",
       "  <thead>\n",
       "    <tr style=\"text-align: right;\">\n",
       "      <th></th>\n",
       "      <th>Dividend</th>\n",
       "    </tr>\n",
       "    <tr>\n",
       "      <th>PaymentDate</th>\n",
       "      <th></th>\n",
       "    </tr>\n",
       "  </thead>\n",
       "  <tbody>\n",
       "    <tr>\n",
       "      <th>2019-07-24</th>\n",
       "      <td>0.032275</td>\n",
       "    </tr>\n",
       "    <tr>\n",
       "      <th>2018-11-22</th>\n",
       "      <td>0.020020</td>\n",
       "    </tr>\n",
       "    <tr>\n",
       "      <th>2018-10-10</th>\n",
       "      <td>0.052709</td>\n",
       "    </tr>\n",
       "    <tr>\n",
       "      <th>2018-07-25</th>\n",
       "      <td>0.024235</td>\n",
       "    </tr>\n",
       "    <tr>\n",
       "      <th>2018-01-10</th>\n",
       "      <td>0.006315</td>\n",
       "    </tr>\n",
       "  </tbody>\n",
       "</table>\n",
       "</div>"
      ],
      "text/plain": [
       "             Dividend\n",
       "PaymentDate          \n",
       "2019-07-24   0.032275\n",
       "2018-11-22   0.020020\n",
       "2018-10-10   0.052709\n",
       "2018-07-25   0.024235\n",
       "2018-01-10   0.006315"
      ]
     },
     "execution_count": 202,
     "metadata": {},
     "output_type": "execute_result"
    }
   ],
   "source": [
    "dividends_df_grouped = dividends_df[dividends_df['StockType'] == stockType][['PaymentDate', 'Dividend']].groupby(['PaymentDate']).min()\n",
    "dividends_df_grouped[::-1].head()"
   ]
  },
  {
   "cell_type": "code",
   "execution_count": 203,
   "metadata": {},
   "outputs": [],
   "source": [
    "evolution = [0.]\n",
    "stockDates = [pd.Timestamp(i).to_pydatetime() for i in stockDF.index]\n",
    "\n",
    "lastPrice  = stockDF.iloc[-1]\n",
    "addDiv = False\n",
    "for date in stockDF.index[::-1][1:]:\n",
    "    closePrice = stockDF[date]\n",
    "    if date in dividends_df_grouped.index:\n",
    "        addDiv = True\n",
    "        dividendReceived = dividends_df_grouped.loc[date]['Dividend']\n",
    "        \n",
    "    patrimonialDiff = (closePrice - lastPrice)\n",
    "    if addDiv:\n",
    "        patrimonialDiff += dividendReceived\n",
    "    \n",
    "    #keyboard()\n",
    "    evolution.append((1. + evolution[-1]) * (1. + patrimonialDiff / lastPrice) - 1.)\n",
    "    addDiv = False\n",
    "    lastPrice  = closePrice"
   ]
  },
  {
   "cell_type": "code",
   "execution_count": 204,
   "metadata": {},
   "outputs": [
    {
     "name": "stdout",
     "output_type": "stream",
     "text": [
      "0.2059141369486197 0.26577363170499146\n"
     ]
    },
    {
     "data": {
      "text/plain": [
       "[<matplotlib.lines.Line2D at 0x2924ab1efd0>]"
      ]
     },
     "execution_count": 204,
     "metadata": {},
     "output_type": "execute_result"
    },
    {
     "data": {
      "image/png": "[encoded data removed]",
      "text/plain": [
       "<Figure size 432x288 with 1 Axes>"
      ]
     },
     "metadata": {
      "needs_background": "light"
     },
     "output_type": "display_data"
    }
   ],
   "source": [
    "print(stockDF_priceEv.values[::-1][-1]-1, evolution[-1])\n",
    "plt.plot(stockDF_priceEv.values[::-1] - 1.)\n",
    "plt.plot(evolution)"
   ]
  },
  {
   "cell_type": "code",
   "execution_count": null,
   "metadata": {},
   "outputs": [],
   "source": []
  },
  {
   "cell_type": "code",
   "execution_count": null,
   "metadata": {},
   "outputs": [],
   "source": []
  },
  {
   "cell_type": "code",
   "execution_count": null,
   "metadata": {},
   "outputs": [],
   "source": []
  },
  {
   "cell_type": "code",
   "execution_count": null,
   "metadata": {},
   "outputs": [],
   "source": []
  },
  {
   "cell_type": "code",
   "execution_count": null,
   "metadata": {},
   "outputs": [],
   "source": []
  }
 ],
 "metadata": {
  "kernelspec": {
   "display_name": "Python 3",
   "language": "python",
   "name": "python3"
  },
  "language_info": {
   "codemirror_mode": {
    "name": "ipython",
    "version": 3
   },
   "file_extension": ".py",
   "mimetype": "text/x-python",
   "name": "python",
   "nbconvert_exporter": "python",
   "pygments_lexer": "ipython3",
   "version": "3.7.3"
  }
 },
 "nbformat": 4,
 "nbformat_minor": 2
}
