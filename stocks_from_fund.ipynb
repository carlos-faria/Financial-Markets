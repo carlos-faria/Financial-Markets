{
 "cells": [
  {
   "cell_type": "code",
   "execution_count": 1,
   "metadata": {},
   "outputs": [],
   "source": [
    "import os\n",
    "import math\n",
    "import sys\n",
    "from tkinter import ttk\n",
    "import statsmodels.api as sm\n",
    "import numpy as np\n",
    "from functools import reduce\n",
    "from operator import and_\n",
    "from tkinter.filedialog import askopenfilename\n",
    "from dateutil import relativedelta as rd\n",
    "import yfinance as yf\n",
    "from statsmodels.stats.outliers_influence import variance_inflation_factor \n",
    "import datetime as dt\n",
    "from pdb import set_trace as keyboard\n",
    "import xlrd\n",
    "from xlrd import open_workbook\n",
    "from sklearn.decomposition import FastICA\n",
    "import pandas as pd\n",
    "pd.core.common.is_list_like = pd.api.types.is_list_like\n",
    "from pandas_datareader import data as pdr\n",
    "from tkinter import StringVar\n",
    "import matplotlib.pyplot as plt\n",
    "from sklearn import linear_model\n",
    "clf = linear_model.LinearRegression()\n",
    "\n",
    "import matplotlib\n",
    "\n",
    "yf.pdr_override()"
   ]
  },
  {
   "cell_type": "code",
   "execution_count": 2,
   "metadata": {},
   "outputs": [],
   "source": [
    "nDays = 30\n",
    "endDate = dt.datetime.now()\n",
    "startDate = endDate - dt.timedelta(days=nDays)"
   ]
  },
  {
   "cell_type": "code",
   "execution_count": 3,
   "metadata": {},
   "outputs": [],
   "source": [
    "fund_data_raw = pd.read_excel('assets/12239939000192.xlsx')"
   ]
  },
  {
   "cell_type": "code",
   "execution_count": 4,
   "metadata": {},
   "outputs": [],
   "source": [
    "mask = (fund_data_raw['Data'] > startDate) & (fund_data_raw['Data'] <= endDate)\n",
    "fund_data = fund_data_raw[mask]\n",
    "fund_data.set_index('Data', inplace=True)\n",
    "fund_pctChange = pd.DataFrame(fund_data['Variação'])"
   ]
  },
  {
   "cell_type": "code",
   "execution_count": 5,
   "metadata": {},
   "outputs": [],
   "source": [
    "ibov_data = pd.read_csv('assets/ibov.csv', sep=';')\n",
    "tickers = ibov_data.iloc[:,0].values[:-2]"
   ]
  },
  {
   "cell_type": "code",
   "execution_count": 6,
   "metadata": {},
   "outputs": [
    {
     "name": "stdout",
     "output_type": "stream",
     "text": [
      "[*                      3%                       ]  2 of 67 downloaded"
     ]
    },
    {
     "name": "stderr",
     "output_type": "stream",
     "text": [
      "Exception in thread Thread-9:\n",
      "Traceback (most recent call last):\n",
      "  File \"C:\\Anaconda3\\lib\\site-packages\\yfinance\\__init__.py\", line 357, in history\n",
      "    quotes = self._parse_quotes(data[\"chart\"][\"result\"][0])\n",
      "  File \"C:\\Anaconda3\\lib\\site-packages\\yfinance\\__init__.py\", line 206, in _parse_quotes\n",
      "    timestamps = data[\"timestamp\"]\n",
      "KeyError: 'timestamp'\n",
      "\n",
      "During handling of the above exception, another exception occurred:\n",
      "\n",
      "Traceback (most recent call last):\n",
      "  File \"C:\\Anaconda3\\lib\\threading.py\", line 917, in _bootstrap_inner\n",
      "    self.run()\n",
      "  File \"C:\\Anaconda3\\lib\\threading.py\", line 865, in run\n",
      "    self._target(*self._args, **self._kwargs)\n",
      "  File \"C:\\Anaconda3\\lib\\site-packages\\multitasking\\__init__.py\", line 102, in _run_via_pool\n",
      "    return callee(*args, **kwargs)\n",
      "  File \"C:\\Anaconda3\\lib\\site-packages\\yfinance\\__init__.py\", line 514, in _download_one_threaded\n",
      "    period, interval, prepost, proxy)\n",
      "  File \"C:\\Anaconda3\\lib\\site-packages\\yfinance\\__init__.py\", line 527, in _download_one\n",
      "    proxy=proxy)\n",
      "  File \"C:\\Anaconda3\\lib\\site-packages\\yfinance\\__init__.py\", line 360, in history\n",
      "    raise ValueError(self.ticker, err_msg)\n",
      "ValueError: ('TAEE11.SA', 'No data found for this date range, symbol may be delisted')\n",
      "\n"
     ]
    },
    {
     "name": "stdout",
     "output_type": "stream",
     "text": [
      "[**********            21%                       ]  14 of 67 downloaded"
     ]
    },
    {
     "name": "stderr",
     "output_type": "stream",
     "text": [
      "Exception in thread Thread-21:\n",
      "Traceback (most recent call last):\n",
      "  File \"C:\\Anaconda3\\lib\\site-packages\\yfinance\\__init__.py\", line 357, in history\n",
      "    quotes = self._parse_quotes(data[\"chart\"][\"result\"][0])\n",
      "  File \"C:\\Anaconda3\\lib\\site-packages\\yfinance\\__init__.py\", line 206, in _parse_quotes\n",
      "    timestamps = data[\"timestamp\"]\n",
      "KeyError: 'timestamp'\n",
      "\n",
      "During handling of the above exception, another exception occurred:\n",
      "\n",
      "Traceback (most recent call last):\n",
      "  File \"C:\\Anaconda3\\lib\\threading.py\", line 917, in _bootstrap_inner\n",
      "    self.run()\n",
      "  File \"C:\\Anaconda3\\lib\\threading.py\", line 865, in run\n",
      "    self._target(*self._args, **self._kwargs)\n",
      "  File \"C:\\Anaconda3\\lib\\site-packages\\multitasking\\__init__.py\", line 102, in _run_via_pool\n",
      "    return callee(*args, **kwargs)\n",
      "  File \"C:\\Anaconda3\\lib\\site-packages\\yfinance\\__init__.py\", line 514, in _download_one_threaded\n",
      "    period, interval, prepost, proxy)\n",
      "  File \"C:\\Anaconda3\\lib\\site-packages\\yfinance\\__init__.py\", line 527, in _download_one\n",
      "    proxy=proxy)\n",
      "  File \"C:\\Anaconda3\\lib\\site-packages\\yfinance\\__init__.py\", line 360, in history\n",
      "    raise ValueError(self.ticker, err_msg)\n",
      "ValueError: ('KLBN11.SA', 'No data found for this date range, symbol may be delisted')\n",
      "\n"
     ]
    },
    {
     "name": "stdout",
     "output_type": "stream",
     "text": [
      "[**************        30%                       ]  20 of 67 downloaded"
     ]
    },
    {
     "name": "stderr",
     "output_type": "stream",
     "text": [
      "Exception in thread Thread-29:\n",
      "Traceback (most recent call last):\n",
      "  File \"C:\\Anaconda3\\lib\\site-packages\\yfinance\\__init__.py\", line 357, in history\n",
      "    quotes = self._parse_quotes(data[\"chart\"][\"result\"][0])\n",
      "  File \"C:\\Anaconda3\\lib\\site-packages\\yfinance\\__init__.py\", line 206, in _parse_quotes\n",
      "    timestamps = data[\"timestamp\"]\n",
      "KeyError: 'timestamp'\n",
      "\n",
      "During handling of the above exception, another exception occurred:\n",
      "\n",
      "Traceback (most recent call last):\n",
      "  File \"C:\\Anaconda3\\lib\\threading.py\", line 917, in _bootstrap_inner\n",
      "    self.run()\n",
      "  File \"C:\\Anaconda3\\lib\\threading.py\", line 865, in run\n",
      "    self._target(*self._args, **self._kwargs)\n",
      "  File \"C:\\Anaconda3\\lib\\site-packages\\multitasking\\__init__.py\", line 102, in _run_via_pool\n",
      "    return callee(*args, **kwargs)\n",
      "  File \"C:\\Anaconda3\\lib\\site-packages\\yfinance\\__init__.py\", line 514, in _download_one_threaded\n",
      "    period, interval, prepost, proxy)\n",
      "  File \"C:\\Anaconda3\\lib\\site-packages\\yfinance\\__init__.py\", line 527, in _download_one\n",
      "    proxy=proxy)\n",
      "  File \"C:\\Anaconda3\\lib\\site-packages\\yfinance\\__init__.py\", line 360, in history\n",
      "    raise ValueError(self.ticker, err_msg)\n",
      "ValueError: ('SANB11.SA', 'No data found for this date range, symbol may be delisted')\n",
      "\n"
     ]
    },
    {
     "name": "stdout",
     "output_type": "stream",
     "text": [
      "[****************      34%                       ]  23 of 67 downloaded"
     ]
    },
    {
     "name": "stderr",
     "output_type": "stream",
     "text": [
      "Exception in thread Thread-32:\n",
      "Traceback (most recent call last):\n",
      "  File \"C:\\Anaconda3\\lib\\site-packages\\yfinance\\__init__.py\", line 357, in history\n",
      "    quotes = self._parse_quotes(data[\"chart\"][\"result\"][0])\n",
      "  File \"C:\\Anaconda3\\lib\\site-packages\\yfinance\\__init__.py\", line 206, in _parse_quotes\n",
      "    timestamps = data[\"timestamp\"]\n",
      "KeyError: 'timestamp'\n",
      "\n",
      "During handling of the above exception, another exception occurred:\n",
      "\n",
      "Traceback (most recent call last):\n",
      "  File \"C:\\Anaconda3\\lib\\threading.py\", line 917, in _bootstrap_inner\n",
      "    self.run()\n",
      "  File \"C:\\Anaconda3\\lib\\threading.py\", line 865, in run\n",
      "    self._target(*self._args, **self._kwargs)\n",
      "  File \"C:\\Anaconda3\\lib\\site-packages\\multitasking\\__init__.py\", line 102, in _run_via_pool\n",
      "    return callee(*args, **kwargs)\n",
      "  File \"C:\\Anaconda3\\lib\\site-packages\\yfinance\\__init__.py\", line 514, in _download_one_threaded\n",
      "    period, interval, prepost, proxy)\n",
      "  File \"C:\\Anaconda3\\lib\\site-packages\\yfinance\\__init__.py\", line 527, in _download_one\n",
      "    proxy=proxy)\n",
      "  File \"C:\\Anaconda3\\lib\\site-packages\\yfinance\\__init__.py\", line 360, in history\n",
      "    raise ValueError(self.ticker, err_msg)\n",
      "ValueError: ('SAPR11.SA', 'No data found for this date range, symbol may be delisted')\n",
      "\n"
     ]
    },
    {
     "name": "stdout",
     "output_type": "stream",
     "text": [
      "[**********************60%****                   ]  40 of 67 downloaded"
     ]
    },
    {
     "name": "stderr",
     "output_type": "stream",
     "text": [
      "Exception in thread Thread-52:\n",
      "Traceback (most recent call last):\n",
      "  File \"C:\\Anaconda3\\lib\\site-packages\\yfinance\\__init__.py\", line 357, in history\n",
      "    quotes = self._parse_quotes(data[\"chart\"][\"result\"][0])\n",
      "  File \"C:\\Anaconda3\\lib\\site-packages\\yfinance\\__init__.py\", line 206, in _parse_quotes\n",
      "    timestamps = data[\"timestamp\"]\n",
      "KeyError: 'timestamp'\n",
      "\n",
      "During handling of the above exception, another exception occurred:\n",
      "\n",
      "Traceback (most recent call last):\n",
      "  File \"C:\\Anaconda3\\lib\\threading.py\", line 917, in _bootstrap_inner\n",
      "    self.run()\n",
      "  File \"C:\\Anaconda3\\lib\\threading.py\", line 865, in run\n",
      "    self._target(*self._args, **self._kwargs)\n",
      "  File \"C:\\Anaconda3\\lib\\site-packages\\multitasking\\__init__.py\", line 102, in _run_via_pool\n",
      "    return callee(*args, **kwargs)\n",
      "  File \"C:\\Anaconda3\\lib\\site-packages\\yfinance\\__init__.py\", line 514, in _download_one_threaded\n",
      "    period, interval, prepost, proxy)\n",
      "  File \"C:\\Anaconda3\\lib\\site-packages\\yfinance\\__init__.py\", line 527, in _download_one\n",
      "    proxy=proxy)\n",
      "  File \"C:\\Anaconda3\\lib\\site-packages\\yfinance\\__init__.py\", line 360, in history\n",
      "    raise ValueError(self.ticker, err_msg)\n",
      "ValueError: ('ESTC3.SA', 'No data found for this date range, symbol may be delisted')\n",
      "\n"
     ]
    },
    {
     "name": "stdout",
     "output_type": "stream",
     "text": [
      "[**********************75%***********            ]  50 of 67 downloaded"
     ]
    },
    {
     "name": "stderr",
     "output_type": "stream",
     "text": [
      "Exception in thread Thread-66:\n",
      "Traceback (most recent call last):\n",
      "  File \"C:\\Anaconda3\\lib\\site-packages\\yfinance\\__init__.py\", line 357, in history\n",
      "    quotes = self._parse_quotes(data[\"chart\"][\"result\"][0])\n",
      "  File \"C:\\Anaconda3\\lib\\site-packages\\yfinance\\__init__.py\", line 206, in _parse_quotes\n",
      "    timestamps = data[\"timestamp\"]\n",
      "KeyError: 'timestamp'\n",
      "\n",
      "During handling of the above exception, another exception occurred:\n",
      "\n",
      "Traceback (most recent call last):\n",
      "  File \"C:\\Anaconda3\\lib\\threading.py\", line 917, in _bootstrap_inner\n",
      "    self.run()\n",
      "  File \"C:\\Anaconda3\\lib\\threading.py\", line 865, in run\n",
      "    self._target(*self._args, **self._kwargs)\n",
      "  File \"C:\\Anaconda3\\lib\\site-packages\\multitasking\\__init__.py\", line 102, in _run_via_pool\n",
      "    return callee(*args, **kwargs)\n",
      "  File \"C:\\Anaconda3\\lib\\site-packages\\yfinance\\__init__.py\", line 514, in _download_one_threaded\n",
      "    period, interval, prepost, proxy)\n",
      "  File \"C:\\Anaconda3\\lib\\site-packages\\yfinance\\__init__.py\", line 527, in _download_one\n",
      "    proxy=proxy)\n",
      "  File \"C:\\Anaconda3\\lib\\site-packages\\yfinance\\__init__.py\", line 360, in history\n",
      "    raise ValueError(self.ticker, err_msg)\n",
      "ValueError: ('FIBR3.SA', 'No data found for this date range, symbol may be delisted')\n",
      "\n"
     ]
    },
    {
     "name": "stdout",
     "output_type": "stream",
     "text": [
      "[**********************79%*************          ]  53 of 67 downloaded"
     ]
    },
    {
     "name": "stderr",
     "output_type": "stream",
     "text": [
      "Exception in thread Thread-62:\n",
      "Traceback (most recent call last):\n",
      "  File \"C:\\Anaconda3\\lib\\site-packages\\yfinance\\__init__.py\", line 357, in history\n",
      "    quotes = self._parse_quotes(data[\"chart\"][\"result\"][0])\n",
      "  File \"C:\\Anaconda3\\lib\\site-packages\\yfinance\\__init__.py\", line 206, in _parse_quotes\n",
      "    timestamps = data[\"timestamp\"]\n",
      "KeyError: 'timestamp'\n",
      "\n",
      "During handling of the above exception, another exception occurred:\n",
      "\n",
      "Traceback (most recent call last):\n",
      "  File \"C:\\Anaconda3\\lib\\threading.py\", line 917, in _bootstrap_inner\n",
      "    self.run()\n",
      "  File \"C:\\Anaconda3\\lib\\threading.py\", line 865, in run\n",
      "    self._target(*self._args, **self._kwargs)\n",
      "  File \"C:\\Anaconda3\\lib\\site-packages\\multitasking\\__init__.py\", line 102, in _run_via_pool\n",
      "    return callee(*args, **kwargs)\n",
      "  File \"C:\\Anaconda3\\lib\\site-packages\\yfinance\\__init__.py\", line 514, in _download_one_threaded\n",
      "    period, interval, prepost, proxy)\n",
      "  File \"C:\\Anaconda3\\lib\\site-packages\\yfinance\\__init__.py\", line 527, in _download_one\n",
      "    proxy=proxy)\n",
      "  File \"C:\\Anaconda3\\lib\\site-packages\\yfinance\\__init__.py\", line 360, in history\n",
      "    raise ValueError(self.ticker, err_msg)\n",
      "ValueError: ('VVAR11.SA', 'No data found for this date range, symbol may be delisted')\n",
      "\n"
     ]
    },
    {
     "name": "stdout",
     "output_type": "stream",
     "text": [
      "[*********************100%***********************]  60 of 67 downloaded\n"
     ]
    }
   ],
   "source": [
    "tickers_yf = [ticker + '.SA' for ticker in tickers]\n",
    "\n",
    "startDate_str = startDate.strftime(\"%Y-%m-%d\")\n",
    "endDate_str   = endDate.strftime(\"%Y-%m-%d\")\n",
    "stocks_df_raw = pdr.get_data_yahoo(tickers_yf, start=startDate_str, end=endDate_str)['Close']"
   ]
  },
  {
   "cell_type": "code",
   "execution_count": 7,
   "metadata": {},
   "outputs": [
    {
     "data": {
      "text/html": [
       "<div>\n",
       "<style scoped>\n",
       "    .dataframe tbody tr th:only-of-type {\n",
       "        vertical-align: middle;\n",
       "    }\n",
       "\n",
       "    .dataframe tbody tr th {\n",
       "        vertical-align: top;\n",
       "    }\n",
       "\n",
       "    .dataframe thead th {\n",
       "        text-align: right;\n",
       "    }\n",
       "</style>\n",
       "<table border=\"1\" class=\"dataframe\">\n",
       "  <thead>\n",
       "    <tr style=\"text-align: right;\">\n",
       "      <th></th>\n",
       "      <th>ABEV3</th>\n",
       "      <th>B3SA3</th>\n",
       "      <th>BBAS3</th>\n",
       "      <th>BBDC3</th>\n",
       "      <th>BBDC4</th>\n",
       "      <th>BBSE3</th>\n",
       "      <th>BRAP4</th>\n",
       "      <th>BRFS3</th>\n",
       "      <th>BRKM5</th>\n",
       "      <th>BRML3</th>\n",
       "      <th>...</th>\n",
       "      <th>SMLS3</th>\n",
       "      <th>SUZB3</th>\n",
       "      <th>TAEE11</th>\n",
       "      <th>TIMP3</th>\n",
       "      <th>UGPA3</th>\n",
       "      <th>USIM5</th>\n",
       "      <th>VALE3</th>\n",
       "      <th>VIVT4</th>\n",
       "      <th>VVAR11</th>\n",
       "      <th>WEGE3</th>\n",
       "    </tr>\n",
       "    <tr>\n",
       "      <th>Date</th>\n",
       "      <th></th>\n",
       "      <th></th>\n",
       "      <th></th>\n",
       "      <th></th>\n",
       "      <th></th>\n",
       "      <th></th>\n",
       "      <th></th>\n",
       "      <th></th>\n",
       "      <th></th>\n",
       "      <th></th>\n",
       "      <th></th>\n",
       "      <th></th>\n",
       "      <th></th>\n",
       "      <th></th>\n",
       "      <th></th>\n",
       "      <th></th>\n",
       "      <th></th>\n",
       "      <th></th>\n",
       "      <th></th>\n",
       "      <th></th>\n",
       "      <th></th>\n",
       "    </tr>\n",
       "  </thead>\n",
       "  <tbody>\n",
       "    <tr>\n",
       "      <th>2019-07-30</th>\n",
       "      <td>NaN</td>\n",
       "      <td>NaN</td>\n",
       "      <td>NaN</td>\n",
       "      <td>NaN</td>\n",
       "      <td>NaN</td>\n",
       "      <td>NaN</td>\n",
       "      <td>NaN</td>\n",
       "      <td>NaN</td>\n",
       "      <td>NaN</td>\n",
       "      <td>NaN</td>\n",
       "      <td>...</td>\n",
       "      <td>NaN</td>\n",
       "      <td>NaN</td>\n",
       "      <td>NaN</td>\n",
       "      <td>NaN</td>\n",
       "      <td>NaN</td>\n",
       "      <td>NaN</td>\n",
       "      <td>NaN</td>\n",
       "      <td>NaN</td>\n",
       "      <td>NaN</td>\n",
       "      <td>NaN</td>\n",
       "    </tr>\n",
       "    <tr>\n",
       "      <th>2019-07-31</th>\n",
       "      <td>-0.010324</td>\n",
       "      <td>-0.021795</td>\n",
       "      <td>-0.014417</td>\n",
       "      <td>-0.033851</td>\n",
       "      <td>-0.025424</td>\n",
       "      <td>-0.002153</td>\n",
       "      <td>-0.005973</td>\n",
       "      <td>-0.007132</td>\n",
       "      <td>-0.002345</td>\n",
       "      <td>-0.013149</td>\n",
       "      <td>...</td>\n",
       "      <td>0.043122</td>\n",
       "      <td>-0.013509</td>\n",
       "      <td>NaN</td>\n",
       "      <td>0.017485</td>\n",
       "      <td>-0.012903</td>\n",
       "      <td>-0.007937</td>\n",
       "      <td>-0.003999</td>\n",
       "      <td>-0.003240</td>\n",
       "      <td>NaN</td>\n",
       "      <td>-0.007500</td>\n",
       "    </tr>\n",
       "    <tr>\n",
       "      <th>2019-08-01</th>\n",
       "      <td>0.014406</td>\n",
       "      <td>0.015644</td>\n",
       "      <td>-0.009549</td>\n",
       "      <td>-0.008679</td>\n",
       "      <td>-0.008696</td>\n",
       "      <td>-0.008320</td>\n",
       "      <td>-0.030677</td>\n",
       "      <td>0.022149</td>\n",
       "      <td>-0.012338</td>\n",
       "      <td>-0.003997</td>\n",
       "      <td>...</td>\n",
       "      <td>-0.010652</td>\n",
       "      <td>-0.000652</td>\n",
       "      <td>NaN</td>\n",
       "      <td>0.004092</td>\n",
       "      <td>0.000000</td>\n",
       "      <td>-0.028571</td>\n",
       "      <td>-0.028308</td>\n",
       "      <td>0.002677</td>\n",
       "      <td>NaN</td>\n",
       "      <td>-0.016373</td>\n",
       "    </tr>\n",
       "    <tr>\n",
       "      <th>2019-08-02</th>\n",
       "      <td>0.003428</td>\n",
       "      <td>0.006301</td>\n",
       "      <td>0.000205</td>\n",
       "      <td>-0.002918</td>\n",
       "      <td>0.002339</td>\n",
       "      <td>0.006837</td>\n",
       "      <td>-0.006525</td>\n",
       "      <td>-0.001464</td>\n",
       "      <td>-0.013980</td>\n",
       "      <td>0.007358</td>\n",
       "      <td>...</td>\n",
       "      <td>-0.010254</td>\n",
       "      <td>-0.014356</td>\n",
       "      <td>NaN</td>\n",
       "      <td>0.026080</td>\n",
       "      <td>0.000000</td>\n",
       "      <td>0.000000</td>\n",
       "      <td>-0.011570</td>\n",
       "      <td>0.006865</td>\n",
       "      <td>NaN</td>\n",
       "      <td>0.013231</td>\n",
       "    </tr>\n",
       "    <tr>\n",
       "      <th>2019-08-05</th>\n",
       "      <td>-0.016105</td>\n",
       "      <td>-0.038265</td>\n",
       "      <td>-0.018663</td>\n",
       "      <td>-0.020813</td>\n",
       "      <td>-0.018086</td>\n",
       "      <td>-0.025000</td>\n",
       "      <td>-0.045649</td>\n",
       "      <td>-0.012903</td>\n",
       "      <td>-0.014480</td>\n",
       "      <td>-0.024568</td>\n",
       "      <td>...</td>\n",
       "      <td>-0.030044</td>\n",
       "      <td>-0.001986</td>\n",
       "      <td>NaN</td>\n",
       "      <td>-0.027800</td>\n",
       "      <td>-0.042232</td>\n",
       "      <td>-0.032941</td>\n",
       "      <td>-0.038462</td>\n",
       "      <td>-0.021591</td>\n",
       "      <td>NaN</td>\n",
       "      <td>-0.018534</td>\n",
       "    </tr>\n",
       "  </tbody>\n",
       "</table>\n",
       "<p>5 rows × 67 columns</p>\n",
       "</div>"
      ],
      "text/plain": [
       "               ABEV3     B3SA3     BBAS3     BBDC3     BBDC4     BBSE3  \\\n",
       "Date                                                                     \n",
       "2019-07-30       NaN       NaN       NaN       NaN       NaN       NaN   \n",
       "2019-07-31 -0.010324 -0.021795 -0.014417 -0.033851 -0.025424 -0.002153   \n",
       "2019-08-01  0.014406  0.015644 -0.009549 -0.008679 -0.008696 -0.008320   \n",
       "2019-08-02  0.003428  0.006301  0.000205 -0.002918  0.002339  0.006837   \n",
       "2019-08-05 -0.016105 -0.038265 -0.018663 -0.020813 -0.018086 -0.025000   \n",
       "\n",
       "               BRAP4     BRFS3     BRKM5     BRML3  ...     SMLS3     SUZB3  \\\n",
       "Date                                                ...                       \n",
       "2019-07-30       NaN       NaN       NaN       NaN  ...       NaN       NaN   \n",
       "2019-07-31 -0.005973 -0.007132 -0.002345 -0.013149  ...  0.043122 -0.013509   \n",
       "2019-08-01 -0.030677  0.022149 -0.012338 -0.003997  ... -0.010652 -0.000652   \n",
       "2019-08-02 -0.006525 -0.001464 -0.013980  0.007358  ... -0.010254 -0.014356   \n",
       "2019-08-05 -0.045649 -0.012903 -0.014480 -0.024568  ... -0.030044 -0.001986   \n",
       "\n",
       "            TAEE11     TIMP3     UGPA3     USIM5     VALE3     VIVT4  VVAR11  \\\n",
       "Date                                                                           \n",
       "2019-07-30     NaN       NaN       NaN       NaN       NaN       NaN     NaN   \n",
       "2019-07-31     NaN  0.017485 -0.012903 -0.007937 -0.003999 -0.003240     NaN   \n",
       "2019-08-01     NaN  0.004092  0.000000 -0.028571 -0.028308  0.002677     NaN   \n",
       "2019-08-02     NaN  0.026080  0.000000  0.000000 -0.011570  0.006865     NaN   \n",
       "2019-08-05     NaN -0.027800 -0.042232 -0.032941 -0.038462 -0.021591     NaN   \n",
       "\n",
       "               WEGE3  \n",
       "Date                  \n",
       "2019-07-30       NaN  \n",
       "2019-07-31 -0.007500  \n",
       "2019-08-01 -0.016373  \n",
       "2019-08-02  0.013231  \n",
       "2019-08-05 -0.018534  \n",
       "\n",
       "[5 rows x 67 columns]"
      ]
     },
     "execution_count": 7,
     "metadata": {},
     "output_type": "execute_result"
    }
   ],
   "source": [
    "stocks_df = stocks_df_raw.pct_change()\n",
    "stocks_df.columns = [i.replace('.SA', '') for i in stocks_df.columns]\n",
    "stocks_df.head()"
   ]
  },
  {
   "cell_type": "code",
   "execution_count": 8,
   "metadata": {},
   "outputs": [
    {
     "data": {
      "text/plain": [
       "Index(['ABEV3', 'B3SA3', 'BBAS3', 'BBDC3', 'BBDC4', 'BBSE3', 'BRAP4', 'BRFS3',\n",
       "       'BRKM5', 'BRML3', 'BTOW3', 'CCRO3', 'CIEL3', 'CMIG4', 'CPFE3', 'CPLE6',\n",
       "       'CSAN3', 'CSNA3', 'CVCB3', 'CYRE3', 'ECOR3', 'EGIE3', 'ELET3', 'ELET6',\n",
       "       'EMBR3', 'ENBR3', 'EQTL3', 'ESTC3', 'FIBR3', 'FLRY3', 'GGBR4', 'GOAU4',\n",
       "       'GOLL4', 'HYPE3', 'IGTA3', 'ITSA4', 'ITUB4', 'JBSS3', 'KLBN11', 'KROT3',\n",
       "       'LAME4', 'LREN3', 'MGLU3', 'MRFG3', 'MRVE3', 'MULT3', 'NATU3', 'PCAR4',\n",
       "       'PETR3', 'PETR4', 'QUAL3', 'RADL3', 'RAIL3', 'RENT3', 'SANB11',\n",
       "       'SAPR11', 'SBSP3', 'SMLS3', 'SUZB3', 'TAEE11', 'TIMP3', 'UGPA3',\n",
       "       'USIM5', 'VALE3', 'VIVT4', 'VVAR11', 'WEGE3'],\n",
       "      dtype='object')"
      ]
     },
     "execution_count": 8,
     "metadata": {},
     "output_type": "execute_result"
    }
   ],
   "source": [
    "stocks_df.columns"
   ]
  },
  {
   "cell_type": "code",
   "execution_count": 9,
   "metadata": {},
   "outputs": [],
   "source": [
    "data = fund_pctChange.join(stocks_df)\n",
    "y = data.iloc[:,0]\n",
    "X_total = data.iloc[:, 1:]"
   ]
  },
  {
   "cell_type": "code",
   "execution_count": 10,
   "metadata": {},
   "outputs": [],
   "source": [
    "class Results:\n",
    "    def __init__(self, rsquared_adj, pvalues, selected_stocks):\n",
    "        self.rsquared_adj = rsquared_adj\n",
    "        self.pvalues = pvalues\n",
    "        self.selected_stocks = selected_stocks"
   ]
  },
  {
   "cell_type": "code",
   "execution_count": 11,
   "metadata": {},
   "outputs": [],
   "source": [
    "columns_with_problem = X_total.columns.to_series()[np.isnan(X_total).any()]\n",
    "X_total.drop(columns_with_problem, axis=1, inplace=True)"
   ]
  },
  {
   "cell_type": "code",
   "execution_count": 12,
   "metadata": {},
   "outputs": [
    {
     "data": {
      "text/plain": [
       "60"
      ]
     },
     "execution_count": 12,
     "metadata": {},
     "output_type": "execute_result"
    }
   ],
   "source": [
    "nCols = X_total.columns.size\n",
    "nCols"
   ]
  },
  {
   "cell_type": "code",
   "execution_count": 20,
   "metadata": {},
   "outputs": [
    {
     "name": "stdout",
     "output_type": "stream",
     "text": [
      "Number of stocks: 17\n",
      "\n",
      "Stocks: ['CSAN3', 'CPLE6', 'ENBR3', 'CIEL3', 'EQTL3', 'ABEV3', 'USIM5', 'HYPE3', 'LREN3', 'BBSE3', 'ELET3', 'SMLS3', 'CYRE3', 'JBSS3', 'NATU3', 'MGLU3', 'RENT3']\n",
      "\n",
      "R2 adj: 0.9999264896205942\n",
      "\n",
      "p-values:               0\n",
      "CSAN3  0.015371\n",
      "CPLE6  0.008477\n",
      "ENBR3  0.009576\n",
      "CIEL3  0.007023\n",
      "EQTL3  0.007761\n",
      "ABEV3  0.009798\n",
      "USIM5  0.006679\n",
      "HYPE3  0.008622\n",
      "LREN3  0.006946\n",
      "BBSE3  0.008980\n",
      "ELET3  0.009547\n",
      "SMLS3  0.008789\n",
      "CYRE3  0.008466\n",
      "JBSS3  0.006545\n",
      "NATU3  0.011059\n",
      "MGLU3  0.012664\n",
      "RENT3  0.033886\n"
     ]
    }
   ],
   "source": [
    "predef_stocks = ['NATU3', 'MGLU3', 'RENT3', 'EGIE3', 'ECOR3']\n",
    "stocks_to_sample = [x for x in X_total.columns if not x in predef_stocks]\n",
    "\n",
    "from pdb import set_trace as keyboard\n",
    "\n",
    "N = 300\n",
    "sensitivity = .15\n",
    "size_samples = np.random.randint(12-len(predef_stocks), 20-len(predef_stocks), size=N)\n",
    "\n",
    "result_list = []\n",
    "rsquared_ajd_list = []\n",
    "\n",
    "X_total_model = X_total.copy()\n",
    "X_total_model['Bias'] = 1.\n",
    "\n",
    "useBias = 0\n",
    "\n",
    "for iteration in range(N):\n",
    "    \n",
    "    while True:\n",
    "        \n",
    "        selected_stocks = np.random.choice(stocks_to_sample, size=size_samples[iteration]).tolist() + \\\n",
    "                                                                    predef_stocks\n",
    "        if useBias:\n",
    "             selected_stocks += ['Bias']\n",
    "\n",
    "        X = X_total_model[selected_stocks]\n",
    "\n",
    "        regressor_OLS = sm.OLS(endog=y, exog=X.values).fit()  \n",
    "        pvalues_dict = dict(zip(selected_stocks, regressor_OLS.pvalues))\n",
    "\n",
    "        try:\n",
    "        \n",
    "            while max(list(pvalues_dict.values())) > sensitivity:\n",
    "                stocks_bigPvalue = list({ key:value for (key,value) in pvalues_dict.items() if value > sensitivity}.keys())\n",
    "                if 'Bias' in stocks_bigPvalue:\n",
    "                    stocks_bigPvalue.remove('Bias')\n",
    "                stockToRemove = np.random.choice(stocks_bigPvalue)\n",
    "                selected_stocks.remove(stockToRemove)\n",
    "                stocks_bigPvalue.remove(stockToRemove)\n",
    "                regressor_OLS = sm.OLS(endog=y, exog=X.values).fit()  \n",
    "                pvalues_dict = dict(zip(selected_stocks, regressor_OLS.pvalues))\n",
    "\n",
    "            result_list.append(Results(regressor_OLS.rsquared_adj, \n",
    "                               pvalues_dict, \n",
    "                               selected_stocks))\n",
    "        \n",
    "        except:\n",
    "            pass\n",
    "        \n",
    "        if len(pvalues_dict) > 0:\n",
    "            break\n",
    "                          \n",
    "\n",
    "\n",
    "    \n",
    "from operator import attrgetter\n",
    "best_rsquaredAdj_obj = max(result_list, key=attrgetter('rsquared_adj'))\n",
    "\n",
    "print('Number of stocks: %s' % len(best_rsquaredAdj_obj.selected_stocks))\n",
    "print('\\nStocks: %s' % best_rsquaredAdj_obj.selected_stocks)\n",
    "print('\\nR2 adj: %s' % best_rsquaredAdj_obj.rsquared_adj)\n",
    "print('\\np-values: %s' % pd.DataFrame(best_rsquaredAdj_obj.pvalues.values(), list(best_rsquaredAdj_obj.pvalues.keys())))"
   ]
  },
  {
   "cell_type": "code",
   "execution_count": 14,
   "metadata": {},
   "outputs": [
    {
     "data": {
      "text/plain": [
       "{'BBDC3': 0.18538525241078804}"
      ]
     },
     "execution_count": 14,
     "metadata": {},
     "output_type": "execute_result"
    }
   ],
   "source": [
    "best_rsquaredAdj_obj.pvalues"
   ]
  },
  {
   "cell_type": "code",
   "execution_count": 15,
   "metadata": {},
   "outputs": [
    {
     "name": "stdout",
     "output_type": "stream",
     "text": [
      "\n",
      "p-values: {'BBDC3': 0.18538525241078804}\n"
     ]
    }
   ],
   "source": [
    "print('\\np-values: %s' % best_rsquaredAdj_obj.pvalues)"
   ]
  },
  {
   "cell_type": "code",
   "execution_count": 16,
   "metadata": {},
   "outputs": [
    {
     "data": {
      "text/html": [
       "<div>\n",
       "<style scoped>\n",
       "    .dataframe tbody tr th:only-of-type {\n",
       "        vertical-align: middle;\n",
       "    }\n",
       "\n",
       "    .dataframe tbody tr th {\n",
       "        vertical-align: top;\n",
       "    }\n",
       "\n",
       "    .dataframe thead th {\n",
       "        text-align: right;\n",
       "    }\n",
       "</style>\n",
       "<table border=\"1\" class=\"dataframe\">\n",
       "  <thead>\n",
       "    <tr style=\"text-align: right;\">\n",
       "      <th></th>\n",
       "      <th>0</th>\n",
       "    </tr>\n",
       "  </thead>\n",
       "  <tbody>\n",
       "    <tr>\n",
       "      <th>BBDC3</th>\n",
       "      <td>0.185385</td>\n",
       "    </tr>\n",
       "  </tbody>\n",
       "</table>\n",
       "</div>"
      ],
      "text/plain": [
       "              0\n",
       "BBDC3  0.185385"
      ]
     },
     "execution_count": 16,
     "metadata": {},
     "output_type": "execute_result"
    }
   ],
   "source": [
    "pd.DataFrame(best_rsquaredAdj_obj.pvalues.values(), list(best_rsquaredAdj_obj.pvalues.keys()))"
   ]
  },
  {
   "cell_type": "code",
   "execution_count": 17,
   "metadata": {},
   "outputs": [
    {
     "data": {
      "text/plain": [
       "['BBDC3']"
      ]
     },
     "execution_count": 17,
     "metadata": {},
     "output_type": "execute_result"
    }
   ],
   "source": [
    "list(best_rsquaredAdj_obj.pvalues.keys())"
   ]
  },
  {
   "cell_type": "code",
   "execution_count": 18,
   "metadata": {},
   "outputs": [
    {
     "ename": "ValueError",
     "evalue": "list.remove(x): x not in list",
     "output_type": "error",
     "traceback": [
      "\u001b[1;31m---------------------------------------------------------------------------\u001b[0m",
      "\u001b[1;31mValueError\u001b[0m                                Traceback (most recent call last)",
      "\u001b[1;32m<ipython-input-18-d8f2a263a9ea>\u001b[0m in \u001b[0;36m<module>\u001b[1;34m\u001b[0m\n\u001b[1;32m----> 1\u001b[1;33m \u001b[0mselected_stocks\u001b[0m\u001b[1;33m.\u001b[0m\u001b[0mremove\u001b[0m\u001b[1;33m(\u001b[0m\u001b[1;34m'CCRO3'\u001b[0m\u001b[1;33m)\u001b[0m\u001b[1;33m\u001b[0m\u001b[1;33m\u001b[0m\u001b[0m\n\u001b[0m",
      "\u001b[1;31mValueError\u001b[0m: list.remove(x): x not in list"
     ]
    }
   ],
   "source": [
    "selected_stocks.remove('CCRO3')"
   ]
  }
 ],
 "metadata": {
  "kernelspec": {
   "display_name": "Python 3",
   "language": "python",
   "name": "python3"
  },
  "language_info": {
   "codemirror_mode": {
    "name": "ipython",
    "version": 3
   },
   "file_extension": ".py",
   "mimetype": "text/x-python",
   "name": "python",
   "nbconvert_exporter": "python",
   "pygments_lexer": "ipython3",
   "version": "3.7.3"
  }
 },
 "nbformat": 4,
 "nbformat_minor": 4
}
