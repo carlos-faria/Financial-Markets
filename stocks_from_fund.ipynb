{
 "cells": [
  {
   "cell_type": "code",
   "execution_count": 304,
   "metadata": {},
   "outputs": [],
   "source": [
    "import os\n",
    "import math\n",
    "import sys\n",
    "import statsmodels.api as sm\n",
    "import numpy as np\n",
    "import seaborn as sns\n",
    "import re\n",
    "from functools import reduce\n",
    "from operator import and_\n",
    "import yfinance as yf\n",
    "from statsmodels.stats.outliers_influence import variance_inflation_factor \n",
    "import datetime as dt\n",
    "from pdb import set_trace as keyboard\n",
    "import xlrd\n",
    "from xlrd import open_workbook\n",
    "from sklearn.decomposition import FastICA\n",
    "import pandas as pd\n",
    "pd.core.common.is_list_like = pd.api.types.is_list_like\n",
    "from pandas_datareader import data as pdr\n",
    "from tkinter import StringVar\n",
    "import matplotlib.pyplot as plt\n",
    "from sklearn import linear_model\n",
    "clf = linear_model.LinearRegression()\n",
    "\n",
    "import matplotlib\n",
    "\n",
    "yf.pdr_override()"
   ]
  },
  {
   "cell_type": "code",
   "execution_count": 305,
   "metadata": {},
   "outputs": [],
   "source": [
    "nDays = 50\n",
    "endDate = dt.datetime.now()\n",
    "startDate = endDate - dt.timedelta(days=nDays)"
   ]
  },
  {
   "cell_type": "code",
   "execution_count": 306,
   "metadata": {},
   "outputs": [
    {
     "name": "stdout",
     "output_type": "stream",
     "text": [
      "[***************       32%                       ]  95 of 297 downloaded"
     ]
    },
    {
     "data": {
      "text/plain": [
       "'012019080102AALR3'"
      ]
     },
     "execution_count": 306,
     "metadata": {},
     "output_type": "execute_result"
    },
    {
     "name": "stdout",
     "output_type": "stream",
     "text": [
      "[***************       32%                       ]  96 of 297 downloaded"
     ]
    }
   ],
   "source": [
    "cotacoesDF = pd.read_csv('assets/cotacoes.txt')\n",
    "cotacoesDF.iloc[0,0].split(' ')[0]"
   ]
  },
  {
   "cell_type": "code",
   "execution_count": 307,
   "metadata": {},
   "outputs": [
    {
     "name": "stdout",
     "output_type": "stream",
     "text": [
      "[****************      33%                       ]  97 of 297 downloaded"
     ]
    },
    {
     "data": {
      "text/plain": [
       "'012019080102'"
      ]
     },
     "execution_count": 307,
     "metadata": {},
     "output_type": "execute_result"
    }
   ],
   "source": [
    "stocksInExchange_raw = pd.DataFrame({})\n",
    "subString = cotacoesDF.iloc[:,0].apply(lambda x: x.split(' ')[0])\n",
    "stocksInExchange_raw['date'] = subString.apply(lambda x: x[:12])\n",
    "stocksInExchange_raw['ticker'] = subString.apply(lambda x: x[12:])\n",
    "\n",
    "firstDate = stocksInExchange_raw['date'][0]\n",
    "firstDate"
   ]
  },
  {
   "cell_type": "code",
   "execution_count": 308,
   "metadata": {},
   "outputs": [],
   "source": [
    "def condition(x):\n",
    "    cond =  (not 'F' in x) & \\\n",
    "            (not '32' in x) & \\\n",
    "            (not '33' in x) & \\\n",
    "            (not '34' in x) & \\\n",
    "            (not '35' in x) \n",
    "    if not '11' in x:\n",
    "        cond = cond & (len(x) <= 5)\n",
    "    return cond"
   ]
  },
  {
   "cell_type": "code",
   "execution_count": 309,
   "metadata": {},
   "outputs": [
    {
     "name": "stdout",
     "output_type": "stream",
     "text": [
      "[****************      33%                       ]  99 of 297 downloaded"
     ]
    },
    {
     "data": {
      "text/plain": [
       "array(['AGRO3', 'BKBR3', 'BRDT3', 'PNVL3', 'CGRA4', 'RSID3', 'BBDC4',\n",
       "       'MNDL3', 'LREN3', 'LAME3', 'CEEB3', 'BPAN4', 'EZTC3', 'TIET4',\n",
       "       'BNBR3', 'BMEB3', 'ENGI11', 'COCE5', 'ENGI4', 'CTSA3', 'SBSP3',\n",
       "       'TOYB4', 'MULT3', 'GOAU3', 'LIQO3', 'ALPA3', 'LOGN3', 'TIMP3',\n",
       "       'MOVI3', 'CPRE3', 'SSBR3', 'RNEW4', 'CSRN6', 'ELET6', 'USIM3',\n",
       "       'NEOE3', 'TEND3', 'CTSA4', 'UCAS3', 'ITUB3'], dtype=object)"
      ]
     },
     "execution_count": 309,
     "metadata": {},
     "output_type": "execute_result"
    }
   ],
   "source": [
    "stocksInExchange = stocksInExchange_raw[stocksInExchange_raw['date'] == firstDate]['ticker'].to_frame()\n",
    "stocksInExchange['company'] = stocksInExchange['ticker'].apply(lambda x: x[:4])\n",
    "stockExchange_Mask = stocksInExchange['ticker'].apply(condition)\n",
    "stocksInExchange = stocksInExchange[stockExchange_Mask]\n",
    "stocksInExchange.sample(40)['ticker'].values"
   ]
  },
  {
   "cell_type": "code",
   "execution_count": 310,
   "metadata": {},
   "outputs": [
    {
     "data": {
      "text/plain": [
       "\"\\nstocksInExchange2 = stocksInExchange.loc[stocksInExchange['company'].duplicated(), :]\\nstocksInExchange.drop_duplicates('company', inplace=True)\\nprint(stocksInExchange.sample(10))\\nprint('\\n')\\nprint(stocksInExchange2.sample(10))\\n\""
      ]
     },
     "execution_count": 310,
     "metadata": {},
     "output_type": "execute_result"
    }
   ],
   "source": [
    "\"\"\"\n",
    "stocksInExchange2 = stocksInExchange.loc[stocksInExchange['company'].duplicated(), :]\n",
    "stocksInExchange.drop_duplicates('company', inplace=True)\n",
    "print(stocksInExchange.sample(10))\n",
    "print('\\n')\n",
    "print(stocksInExchange2.sample(10))\n",
    "\"\"\""
   ]
  },
  {
   "cell_type": "code",
   "execution_count": 311,
   "metadata": {},
   "outputs": [
    {
     "name": "stdout",
     "output_type": "stream",
     "text": [
      "[*****************     35%                       ]  103 of 297 downloaded"
     ]
    }
   ],
   "source": [
    "fund_data_raw = pd.read_excel('assets/12239939000192.xlsx')"
   ]
  },
  {
   "cell_type": "code",
   "execution_count": 312,
   "metadata": {},
   "outputs": [],
   "source": [
    "mask = (fund_data_raw['Data'] > startDate) & (fund_data_raw['Data'] <= endDate)\n",
    "fund_data = fund_data_raw[mask]\n",
    "fund_data.set_index('Data', inplace=True)\n",
    "fund_pctChange = pd.DataFrame(fund_data['Variação'])"
   ]
  },
  {
   "cell_type": "code",
   "execution_count": 313,
   "metadata": {},
   "outputs": [],
   "source": [
    "ibov_data = pd.read_csv('assets/ibov.csv', sep=';')\n",
    "#tickers = ibov_data.iloc[:,0].values[:-2]\n",
    "tickers = stocksInExchange['ticker'].tolist()"
   ]
  },
  {
   "cell_type": "code",
   "execution_count": 314,
   "metadata": {},
   "outputs": [
    {
     "name": "stdout",
     "output_type": "stream",
     "text": [
      "[*********************100%***********************]  297 of 297 downloaded\n",
      "[*********************103%************************]  307 of 297 downloaded"
     ]
    }
   ],
   "source": [
    "tickers_yf = [ticker + '.SA' for ticker in tickers]\n",
    "\n",
    "startDate_str = startDate.strftime(\"%Y-%m-%d\")\n",
    "endDate_str   = endDate.strftime(\"%Y-%m-%d\")\n",
    "stocks_df_raw = pdr.get_data_yahoo(tickers_yf, start=startDate_str, end=endDate_str)['Close']"
   ]
  },
  {
   "cell_type": "code",
   "execution_count": 315,
   "metadata": {},
   "outputs": [
    {
     "name": "stdout",
     "output_type": "stream",
     "text": [
      "[**********************104%************************]  308 of 297 downloaded"
     ]
    },
    {
     "data": {
      "text/html": [
       "<div>\n",
       "<style scoped>\n",
       "    .dataframe tbody tr th:only-of-type {\n",
       "        vertical-align: middle;\n",
       "    }\n",
       "\n",
       "    .dataframe tbody tr th {\n",
       "        vertical-align: top;\n",
       "    }\n",
       "\n",
       "    .dataframe thead th {\n",
       "        text-align: right;\n",
       "    }\n",
       "</style>\n",
       "<table border=\"1\" class=\"dataframe\">\n",
       "  <thead>\n",
       "    <tr style=\"text-align: right;\">\n",
       "      <th></th>\n",
       "      <th>AALR3</th>\n",
       "      <th>ABCB4</th>\n",
       "      <th>ABEV3</th>\n",
       "      <th>ADHM3</th>\n",
       "      <th>AGRO3</th>\n",
       "      <th>ALPA3</th>\n",
       "      <th>ALPA4</th>\n",
       "      <th>ALSC3</th>\n",
       "      <th>ALUP11</th>\n",
       "      <th>ALUP3</th>\n",
       "      <th>...</th>\n",
       "      <th>VIVT4</th>\n",
       "      <th>VLID3</th>\n",
       "      <th>VULC3</th>\n",
       "      <th>VVAR3</th>\n",
       "      <th>WEGE3</th>\n",
       "      <th>WHRL3</th>\n",
       "      <th>WHRL4</th>\n",
       "      <th>WIZS3</th>\n",
       "      <th>WLMM4</th>\n",
       "      <th>YDUQ3</th>\n",
       "    </tr>\n",
       "    <tr>\n",
       "      <th>Date</th>\n",
       "      <th></th>\n",
       "      <th></th>\n",
       "      <th></th>\n",
       "      <th></th>\n",
       "      <th></th>\n",
       "      <th></th>\n",
       "      <th></th>\n",
       "      <th></th>\n",
       "      <th></th>\n",
       "      <th></th>\n",
       "      <th></th>\n",
       "      <th></th>\n",
       "      <th></th>\n",
       "      <th></th>\n",
       "      <th></th>\n",
       "      <th></th>\n",
       "      <th></th>\n",
       "      <th></th>\n",
       "      <th></th>\n",
       "      <th></th>\n",
       "      <th></th>\n",
       "    </tr>\n",
       "  </thead>\n",
       "  <tbody>\n",
       "    <tr>\n",
       "      <th>2019-07-15</th>\n",
       "      <td>NaN</td>\n",
       "      <td>NaN</td>\n",
       "      <td>NaN</td>\n",
       "      <td>NaN</td>\n",
       "      <td>NaN</td>\n",
       "      <td>NaN</td>\n",
       "      <td>NaN</td>\n",
       "      <td>NaN</td>\n",
       "      <td>NaN</td>\n",
       "      <td>NaN</td>\n",
       "      <td>...</td>\n",
       "      <td>NaN</td>\n",
       "      <td>NaN</td>\n",
       "      <td>NaN</td>\n",
       "      <td>NaN</td>\n",
       "      <td>NaN</td>\n",
       "      <td>NaN</td>\n",
       "      <td>NaN</td>\n",
       "      <td>NaN</td>\n",
       "      <td>NaN</td>\n",
       "      <td>NaN</td>\n",
       "    </tr>\n",
       "    <tr>\n",
       "      <th>2019-07-16</th>\n",
       "      <td>-0.012266</td>\n",
       "      <td>0.002205</td>\n",
       "      <td>-0.008219</td>\n",
       "      <td>-0.012987</td>\n",
       "      <td>0.011838</td>\n",
       "      <td>0.006876</td>\n",
       "      <td>-0.001406</td>\n",
       "      <td>0.003262</td>\n",
       "      <td>NaN</td>\n",
       "      <td>-0.011111</td>\n",
       "      <td>...</td>\n",
       "      <td>0.008194</td>\n",
       "      <td>0.013003</td>\n",
       "      <td>0.002874</td>\n",
       "      <td>0.014225</td>\n",
       "      <td>0.004911</td>\n",
       "      <td>-0.017857</td>\n",
       "      <td>-0.001770</td>\n",
       "      <td>0.015900</td>\n",
       "      <td>0.002604</td>\n",
       "      <td>NaN</td>\n",
       "    </tr>\n",
       "    <tr>\n",
       "      <th>2019-07-17</th>\n",
       "      <td>0.000000</td>\n",
       "      <td>-0.001100</td>\n",
       "      <td>-0.006077</td>\n",
       "      <td>0.013158</td>\n",
       "      <td>0.004926</td>\n",
       "      <td>-0.009756</td>\n",
       "      <td>0.024413</td>\n",
       "      <td>0.017702</td>\n",
       "      <td>NaN</td>\n",
       "      <td>0.074157</td>\n",
       "      <td>...</td>\n",
       "      <td>-0.002586</td>\n",
       "      <td>0.006724</td>\n",
       "      <td>0.025788</td>\n",
       "      <td>0.025245</td>\n",
       "      <td>0.000888</td>\n",
       "      <td>-0.014545</td>\n",
       "      <td>0.026596</td>\n",
       "      <td>-0.012356</td>\n",
       "      <td>-0.006494</td>\n",
       "      <td>NaN</td>\n",
       "    </tr>\n",
       "    <tr>\n",
       "      <th>2019-07-18</th>\n",
       "      <td>0.000000</td>\n",
       "      <td>0.013216</td>\n",
       "      <td>0.014452</td>\n",
       "      <td>0.025974</td>\n",
       "      <td>-0.001838</td>\n",
       "      <td>-0.004433</td>\n",
       "      <td>0.001375</td>\n",
       "      <td>-0.007810</td>\n",
       "      <td>NaN</td>\n",
       "      <td>-0.001046</td>\n",
       "      <td>...</td>\n",
       "      <td>-0.005741</td>\n",
       "      <td>-0.011536</td>\n",
       "      <td>0.041899</td>\n",
       "      <td>0.009576</td>\n",
       "      <td>0.009765</td>\n",
       "      <td>-0.029520</td>\n",
       "      <td>-0.027634</td>\n",
       "      <td>0.030025</td>\n",
       "      <td>0.000000</td>\n",
       "      <td>NaN</td>\n",
       "    </tr>\n",
       "    <tr>\n",
       "      <th>2019-07-19</th>\n",
       "      <td>-0.003268</td>\n",
       "      <td>-0.005978</td>\n",
       "      <td>-0.008767</td>\n",
       "      <td>-0.037975</td>\n",
       "      <td>0.007366</td>\n",
       "      <td>0.004948</td>\n",
       "      <td>-0.007323</td>\n",
       "      <td>-0.008945</td>\n",
       "      <td>NaN</td>\n",
       "      <td>-0.017801</td>\n",
       "      <td>...</td>\n",
       "      <td>0.001118</td>\n",
       "      <td>-0.001843</td>\n",
       "      <td>-0.014745</td>\n",
       "      <td>-0.031165</td>\n",
       "      <td>0.001758</td>\n",
       "      <td>-0.032319</td>\n",
       "      <td>-0.021314</td>\n",
       "      <td>0.013765</td>\n",
       "      <td>0.000000</td>\n",
       "      <td>NaN</td>\n",
       "    </tr>\n",
       "  </tbody>\n",
       "</table>\n",
       "<p>5 rows × 297 columns</p>\n",
       "</div>"
      ],
      "text/plain": [
       "               AALR3     ABCB4     ABEV3     ADHM3     AGRO3     ALPA3  \\\n",
       "Date                                                                     \n",
       "2019-07-15       NaN       NaN       NaN       NaN       NaN       NaN   \n",
       "2019-07-16 -0.012266  0.002205 -0.008219 -0.012987  0.011838  0.006876   \n",
       "2019-07-17  0.000000 -0.001100 -0.006077  0.013158  0.004926 -0.009756   \n",
       "2019-07-18  0.000000  0.013216  0.014452  0.025974 -0.001838 -0.004433   \n",
       "2019-07-19 -0.003268 -0.005978 -0.008767 -0.037975  0.007366  0.004948   \n",
       "\n",
       "               ALPA4     ALSC3  ALUP11     ALUP3  ...     VIVT4     VLID3  \\\n",
       "Date                                              ...                       \n",
       "2019-07-15       NaN       NaN     NaN       NaN  ...       NaN       NaN   \n",
       "2019-07-16 -0.001406  0.003262     NaN -0.011111  ...  0.008194  0.013003   \n",
       "2019-07-17  0.024413  0.017702     NaN  0.074157  ... -0.002586  0.006724   \n",
       "2019-07-18  0.001375 -0.007810     NaN -0.001046  ... -0.005741 -0.011536   \n",
       "2019-07-19 -0.007323 -0.008945     NaN -0.017801  ...  0.001118 -0.001843   \n",
       "\n",
       "               VULC3     VVAR3     WEGE3     WHRL3     WHRL4     WIZS3  \\\n",
       "Date                                                                     \n",
       "2019-07-15       NaN       NaN       NaN       NaN       NaN       NaN   \n",
       "2019-07-16  0.002874  0.014225  0.004911 -0.017857 -0.001770  0.015900   \n",
       "2019-07-17  0.025788  0.025245  0.000888 -0.014545  0.026596 -0.012356   \n",
       "2019-07-18  0.041899  0.009576  0.009765 -0.029520 -0.027634  0.030025   \n",
       "2019-07-19 -0.014745 -0.031165  0.001758 -0.032319 -0.021314  0.013765   \n",
       "\n",
       "               WLMM4  YDUQ3  \n",
       "Date                         \n",
       "2019-07-15       NaN    NaN  \n",
       "2019-07-16  0.002604    NaN  \n",
       "2019-07-17 -0.006494    NaN  \n",
       "2019-07-18  0.000000    NaN  \n",
       "2019-07-19  0.000000    NaN  \n",
       "\n",
       "[5 rows x 297 columns]"
      ]
     },
     "execution_count": 315,
     "metadata": {},
     "output_type": "execute_result"
    },
    {
     "name": "stdout",
     "output_type": "stream",
     "text": [
      "[**********************104%************************]  309 of 297 downloaded"
     ]
    }
   ],
   "source": [
    "stocks_df = stocks_df_raw.pct_change()\n",
    "stocks_df.columns = [i.replace('.SA', '') for i in stocks_df.columns]\n",
    "stocks_df.head()"
   ]
  },
  {
   "cell_type": "code",
   "execution_count": 316,
   "metadata": {},
   "outputs": [],
   "source": [
    "#stocks_df.columns"
   ]
  },
  {
   "cell_type": "code",
   "execution_count": 317,
   "metadata": {},
   "outputs": [
    {
     "name": "stdout",
     "output_type": "stream",
     "text": [
      "[**********************105%************************]  312 of 297 downloaded"
     ]
    }
   ],
   "source": [
    "data = fund_pctChange.join(stocks_df)\n",
    "data.fillna(data.mean(), inplace=True)\n",
    "columns_with_problem = data.columns.to_series()[np.isnan(data).any()]\n",
    "data.drop(columns_with_problem, axis=1, inplace=True)"
   ]
  },
  {
   "cell_type": "code",
   "execution_count": 318,
   "metadata": {},
   "outputs": [
    {
     "data": {
      "text/plain": [
       "32"
      ]
     },
     "execution_count": 318,
     "metadata": {},
     "output_type": "execute_result"
    }
   ],
   "source": [
    "y = data.iloc[:,0]\n",
    "X_total = data.iloc[:, 1:]\n",
    "len(X_total)"
   ]
  },
  {
   "cell_type": "code",
   "execution_count": 319,
   "metadata": {},
   "outputs": [],
   "source": [
    "class Results:\n",
    "    def __init__(self, model, rsquared_adj, pvalues, selected_stocks):\n",
    "        self.model = model\n",
    "        self.rsquared_adj = rsquared_adj\n",
    "        self.pvalues = pvalues\n",
    "        self.selected_stocks = selected_stocks"
   ]
  },
  {
   "cell_type": "code",
   "execution_count": 320,
   "metadata": {},
   "outputs": [],
   "source": [
    "#columns_with_problem = X_total.columns.to_series()[np.isnan(X_total).any()]\n",
    "#X_total.drop(columns_with_problem, axis=1, inplace=True)"
   ]
  },
  {
   "cell_type": "code",
   "execution_count": 321,
   "metadata": {},
   "outputs": [
    {
     "data": {
      "text/plain": [
       "286"
      ]
     },
     "execution_count": 321,
     "metadata": {},
     "output_type": "execute_result"
    }
   ],
   "source": [
    "nCols = X_total.columns.size\n",
    "nCols"
   ]
  },
  {
   "cell_type": "code",
   "execution_count": 322,
   "metadata": {},
   "outputs": [
    {
     "name": "stdout",
     "output_type": "stream",
     "text": [
      "Iteration number 99999***************164%***************************************]  488 of 297 downloadedNumber of stocks: 17\n",
      "\n",
      "Stocks: ['LOGN3', 'BPAN4', 'BEES4', 'ENEV3', 'ALUP4', 'VIVT4', 'QUAL3', 'CESP6', 'UNIP3', 'EALT4', 'ARZZ3', 'CESP3', 'BTTL3', 'EMAE4', 'CIEL3', 'EUCA4', 'PRIO3']\n",
      "\n",
      "R2 adj: 0.9836346332524722\n",
      "\n",
      "p-values:                   0\n",
      "LOGN3  2.754743e-06\n",
      "BPAN4  1.094855e-02\n",
      "BEES4  4.425477e-03\n",
      "ENEV3  1.515120e-02\n",
      "ALUP4  1.910699e-03\n",
      "VIVT4  8.141455e-06\n",
      "QUAL3  2.962566e-03\n",
      "CESP6  1.100351e-03\n",
      "UNIP3  2.329945e-08\n",
      "EALT4  1.026970e-06\n",
      "ARZZ3  9.772508e-03\n",
      "CESP3  4.342508e-03\n",
      "BTTL3  1.547724e-04\n",
      "EMAE4  5.098418e-04\n",
      "CIEL3  3.371212e-04\n",
      "EUCA4  2.128121e-04\n",
      "PRIO3  2.372785e-08\n",
      "\n",
      "Params:                                  OLS Regression Results                                \n",
      "=======================================================================================\n",
      "Dep. Variable:               Variação   R-squared (uncentered):                   0.992\n",
      "Model:                            OLS   Adj. R-squared (uncentered):              0.984\n",
      "Method:                 Least Squares   F-statistic:                              114.1\n",
      "Date:                Sun, 01 Sep 2019   Prob (F-statistic):                    8.64e-13\n",
      "Time:                        22:24:59   Log-Likelihood:                          181.60\n",
      "No. Observations:                  32   AIC:                                     -329.2\n",
      "Df Residuals:                      15   BIC:                                     -304.3\n",
      "Df Model:                          17                                                  \n",
      "Covariance Type:            nonrobust                                                  \n",
      "==============================================================================\n",
      "                 coef    std err          t      P>|t|      [0.025      0.975]\n",
      "------------------------------------------------------------------------------\n",
      "LOGN3          0.0795      0.011      7.267      0.000       0.056       0.103\n",
      "BPAN4          0.0168      0.006      2.902      0.011       0.004       0.029\n",
      "BEES4         -0.0502      0.015     -3.346      0.004      -0.082      -0.018\n",
      "ENEV3          0.0945      0.034      2.741      0.015       0.021       0.168\n",
      "ALUP4          0.0580      0.015      3.755      0.002       0.025       0.091\n",
      "VIVT4          0.1909      0.029      6.621      0.000       0.129       0.252\n",
      "QUAL3         -0.0155      0.004     -3.541      0.003      -0.025      -0.006\n",
      "CESP6          0.0986      0.024      4.026      0.001       0.046       0.151\n",
      "UNIP3          0.1706      0.016     10.593      0.000       0.136       0.205\n",
      "EALT4          0.1105      0.014      7.886      0.000       0.081       0.140\n",
      "ARZZ3         -0.0822      0.028     -2.958      0.010      -0.141      -0.023\n",
      "CESP3          0.0858      0.026      3.355      0.004       0.031       0.140\n",
      "BTTL3         -0.0178      0.004     -5.012      0.000      -0.025      -0.010\n",
      "EMAE4          0.1260      0.029      4.407      0.001       0.065       0.187\n",
      "CIEL3          0.0450      0.010      4.615      0.000       0.024       0.066\n",
      "EUCA4          0.0729      0.015      4.848      0.000       0.041       0.105\n",
      "PRIO3          0.1475      0.014     10.578      0.000       0.118       0.177\n",
      "==============================================================================\n",
      "Omnibus:                        0.216   Durbin-Watson:                   1.802\n",
      "Prob(Omnibus):                  0.898   Jarque-Bera (JB):                0.136\n",
      "Skew:                           0.140   Prob(JB):                        0.934\n",
      "Kurtosis:                       2.846   Cond. No.                         22.2\n",
      "==============================================================================\n",
      "\n",
      "Warnings:\n",
      "[1] Standard Errors assume that the covariance matrix of the errors is correctly specified.\n"
     ]
    },
    {
     "data": {
      "text/plain": [
       "<matplotlib.axes._subplots.AxesSubplot at 0x1b929450b70>"
      ]
     },
     "execution_count": 322,
     "metadata": {},
     "output_type": "execute_result"
    },
    {
     "data": {
      "image/png": "[encoded data removed]",
      "text/plain": [
       "<Figure size 432x288 with 1 Axes>"
      ]
     },
     "metadata": {},
     "output_type": "display_data"
    }
   ],
   "source": [
    "predef_stocks = []\n",
    "stocks_to_sample = [x for x in X_total.columns if not x in predef_stocks]\n",
    "\n",
    "# Def array stocks to remove from analysis\n",
    "# Remover small caps pouco líquidas e açoes com pouca mov. diária\n",
    "\n",
    "from pdb import set_trace as keyboard\n",
    "\n",
    "N = 100000\n",
    "minNumberStocks = 12\n",
    "sensitivity = .10\n",
    "size_samples = np.random.randint(12-len(predef_stocks), 20-len(predef_stocks), size=N)\n",
    "\n",
    "result_list = []\n",
    "rsquared_ajd_list = []\n",
    "\n",
    "X_total_model = X_total.copy()\n",
    "X_total_model['Bias'] = 1.\n",
    "\n",
    "useBias = 0\n",
    "\n",
    "for iteration in range(N):\n",
    "    \n",
    "    sys.stdout.write(\"\\rIteration number {}\".format(iteration))\n",
    "    sys.stdout.flush()\n",
    "    \n",
    "    while True:\n",
    "        \n",
    "        selected_stocks = np.random.choice(stocks_to_sample, size=size_samples[iteration]).tolist() + \\\n",
    "                                                                    predef_stocks\n",
    "        if useBias:\n",
    "             selected_stocks += ['Bias']\n",
    "\n",
    "        X = X_total_model[selected_stocks]\n",
    "\n",
    "        regressor_OLS = sm.OLS(endog=y, exog=X.values).fit()  \n",
    "        pvalues_dict = dict(zip(selected_stocks, regressor_OLS.pvalues))\n",
    "\n",
    "        try:\n",
    "        \n",
    "            while max(list(pvalues_dict.values())) > sensitivity:\n",
    "                stocks_bigPvalue = list({ key:value for (key,value) in pvalues_dict.items() if value > sensitivity}.keys())\n",
    "                if 'Bias' in stocks_bigPvalue:\n",
    "                    stocks_bigPvalue.remove('Bias')\n",
    "                stockToRemove = np.random.choice(stocks_bigPvalue)\n",
    "                selected_stocks.remove(stockToRemove)\n",
    "                #stocks_bigPvalue.remove(stockToRemove)\n",
    "                del X[stockToRemove]\n",
    "                regressor_OLS = sm.OLS(endog=y, exog=X.values).fit()  \n",
    "                pvalues_dict = dict(zip(selected_stocks, regressor_OLS.pvalues))\n",
    "                if len(pvalues_dict) == minNumberStocks:\n",
    "                    break\n",
    "\n",
    "            result_list.append(Results(regressor_OLS,\n",
    "                               regressor_OLS.rsquared_adj, \n",
    "                               pvalues_dict, \n",
    "                               selected_stocks))\n",
    "        \n",
    "        except:\n",
    "            pass\n",
    "        \n",
    "        if len(pvalues_dict) > 0:\n",
    "            break\n",
    "                          \n",
    "\n",
    "\n",
    "    \n",
    "from operator import attrgetter\n",
    "best_rsquaredAdj_obj = max(result_list, key=attrgetter('rsquared_adj'))\n",
    "\n",
    "print('Number of stocks: %s' % len(best_rsquaredAdj_obj.selected_stocks))\n",
    "print('\\nStocks: %s' % best_rsquaredAdj_obj.selected_stocks)\n",
    "print('\\nR2 adj: %s' % best_rsquaredAdj_obj.rsquared_adj)\n",
    "print('\\np-values: %s' % pd.DataFrame(best_rsquaredAdj_obj.pvalues.values(), list(best_rsquaredAdj_obj.pvalues.keys())))\n",
    "print('\\nParams: %s' % best_rsquaredAdj_obj.model.summary(xname=best_rsquaredAdj_obj.selected_stocks))\n",
    "\n",
    "fig, ax = plt.subplots()\n",
    "fittedValues = X_total_model[best_rsquaredAdj_obj.selected_stocks].multiply(best_rsquaredAdj_obj.model.params.values).sum(axis=1).values\n",
    "sns.scatterplot(range(len(y)), y, ax=ax)\n",
    "sns.scatterplot(range(len(fittedValues)), fittedValues, marker='+', color='red', ax=ax)"
   ]
  },
  {
   "cell_type": "code",
   "execution_count": 323,
   "metadata": {},
   "outputs": [
    {
     "data": {
      "text/plain": [
       "['LOGN3',\n",
       " 'BPAN4',\n",
       " 'BEES4',\n",
       " 'ENEV3',\n",
       " 'ALUP4',\n",
       " 'VIVT4',\n",
       " 'QUAL3',\n",
       " 'CESP6',\n",
       " 'UNIP3',\n",
       " 'EALT4',\n",
       " 'ARZZ3',\n",
       " 'CESP3',\n",
       " 'BTTL3',\n",
       " 'EMAE4',\n",
       " 'CIEL3',\n",
       " 'EUCA4',\n",
       " 'PRIO3']"
      ]
     },
     "execution_count": 323,
     "metadata": {},
     "output_type": "execute_result"
    }
   ],
   "source": [
    "list(best_rsquaredAdj_obj.pvalues.keys())"
   ]
  },
  {
   "cell_type": "code",
   "execution_count": 324,
   "metadata": {},
   "outputs": [
    {
     "ename": "ValueError",
     "evalue": "list.remove(x): x not in list",
     "output_type": "error",
     "traceback": [
      "\u001b[1;31m---------------------------------------------------------------------------\u001b[0m",
      "\u001b[1;31mValueError\u001b[0m                                Traceback (most recent call last)",
      "\u001b[1;32m<ipython-input-324-d8f2a263a9ea>\u001b[0m in \u001b[0;36m<module>\u001b[1;34m\u001b[0m\n\u001b[1;32m----> 1\u001b[1;33m \u001b[0mselected_stocks\u001b[0m\u001b[1;33m.\u001b[0m\u001b[0mremove\u001b[0m\u001b[1;33m(\u001b[0m\u001b[1;34m'CCRO3'\u001b[0m\u001b[1;33m)\u001b[0m\u001b[1;33m\u001b[0m\u001b[1;33m\u001b[0m\u001b[0m\n\u001b[0m",
      "\u001b[1;31mValueError\u001b[0m: list.remove(x): x not in list"
     ]
    }
   ],
   "source": [
    "selected_stocks.remove('CCRO3')"
   ]
  }
 ],
 "metadata": {
  "kernelspec": {
   "display_name": "Python 3",
   "language": "python",
   "name": "python3"
  },
  "language_info": {
   "codemirror_mode": {
    "name": "ipython",
    "version": 3
   },
   "file_extension": ".py",
   "mimetype": "text/x-python",
   "name": "python",
   "nbconvert_exporter": "python",
   "pygments_lexer": "ipython3",
   "version": "3.7.3"
  }
 },
 "nbformat": 4,
 "nbformat_minor": 4
}
